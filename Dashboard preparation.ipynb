{
 "cells": [
  {
   "cell_type": "code",
   "execution_count": 8,
   "metadata": {},
   "outputs": [],
   "source": [
    "#Libraries used\n",
    "import pandas as pd\n",
    "import numpy as np"
   ]
  },
  {
   "cell_type": "code",
   "execution_count": 2,
   "metadata": {},
   "outputs": [],
   "source": [
    "#Load databases from https://mrv.emsa.europa.eu/#public/emission-report\n",
    "\n",
    "data18=pd.read_excel(\"2018-v258-30062021-EU MRV Publication of information.xlsx\",index_col=0,skiprows=2)\n",
    "data19=pd.read_excel(\"2019-v189-10082021-EU MRV Publication of information.xlsx\",index_col=0,skiprows=2)\n",
    "data20=pd.read_excel(\"2020-v25-01082021-EU MRV Publication of information.xlsx\",index_col=0,skiprows=2)\n",
    "data20=data20.rename(columns={\"Time spent at sea [hours]\": \"Total time spent at sea [hours]\", \"Annual Time spent at sea [hours]\": \"Annual Total time spent at sea [hours]\"})"
   ]
  },
  {
   "cell_type": "code",
   "execution_count": 4,
   "metadata": {},
   "outputs": [
    {
     "data": {
      "text/plain": [
       "35921"
      ]
     },
     "execution_count": 4,
     "metadata": {},
     "output_type": "execute_result"
    }
   ],
   "source": [
    "#Combine databases\n",
    "data=pd.concat([data18,data19,data20])"
   ]
  },
  {
   "cell_type": "code",
   "execution_count": 6,
   "metadata": {},
   "outputs": [
    {
     "data": {
      "text/plain": [
       "34565"
      ]
     },
     "execution_count": 6,
     "metadata": {},
     "output_type": "execute_result"
    }
   ],
   "source": [
    "#Removing ships that didn't travel\n",
    "data['Annual average Fuel consumption per distance [kg / n mile]'] = pd.to_numeric(data['Annual average Fuel consumption per distance [kg / n mile]'], errors='coerce')\n",
    "data=data.dropna(subset=[\"Annual average Fuel consumption per distance [kg / n mile]\"])\n",
    "data[\"Name\"].count()"
   ]
  },
  {
   "cell_type": "code",
   "execution_count": 9,
   "metadata": {},
   "outputs": [],
   "source": [
    "#Create one unique method column\n",
    "data['MethodA'] = np.where(data['A']=='Yes', 'A',\"\")\n",
    "data[\"MethodB\"]=np.where(data['B']=='Yes', 'B',\"\")\n",
    "data[\"MethodC\"]=np.where(data['C']=='Yes', 'C',\"\")\n",
    "data[\"MethodD\"]=np.where(data['D']=='Yes', 'D',\"\")\n",
    "data= data.assign(Method = data.MethodA.astype(str)+data.MethodB.astype(str) +data.MethodC.astype(str) + data.MethodD.astype(str))\n"
   ]
  },
  {
   "cell_type": "code",
   "execution_count": 10,
   "metadata": {},
   "outputs": [],
   "source": [
    "# Convert technical efficiency to numeric data\n",
    "data[\"Technical efficiency (gCO₂/t·nm)\"]=data[\"Technical efficiency\"].str.replace(r\"\\D+\",'')\n",
    "data['Technical efficiency (gCO₂/t·nm)'] = pd.to_numeric(data['Technical efficiency (gCO₂/t·nm)'], errors='coerce')\n",
    "data=data.dropna(subset=[\"Technical efficiency (gCO₂/t·nm)\"])\n",
    "data['Technical efficiency (gCO₂/t·nm)']=data['Technical efficiency (gCO₂/t·nm)']/100"
   ]
  },
  {
   "cell_type": "code",
   "execution_count": 12,
   "metadata": {},
   "outputs": [],
   "source": [
    "#Calculating distance of ships\n",
    "data[\"Distance travelled(n miles)\"]=(data[\"Total fuel consumption [m tonnes]\"]/data[\"Annual average Fuel consumption per distance [kg / n mile]\"])*1000"
   ]
  },
  {
   "cell_type": "code",
   "execution_count": 13,
   "metadata": {},
   "outputs": [],
   "source": [
    "#Calculating Speed of ships\n",
    "data[\"Average speed (n miles/hour)\"]=data[\"Distance travelled(n miles)\"]/data[\"Annual Total time spent at sea [hours]\"]"
   ]
  },
  {
   "cell_type": "code",
   "execution_count": 14,
   "metadata": {},
   "outputs": [],
   "source": [
    "#Write cleaned database as a CSV file to be imported to Tableau\n",
    "data.to_csv('EUShipping.csv')"
   ]
  }
 ],
 "metadata": {
  "kernelspec": {
   "display_name": "Python 3",
   "language": "python",
   "name": "python3"
  },
  "language_info": {
   "codemirror_mode": {
    "name": "ipython",
    "version": 3
   },
   "file_extension": ".py",
   "mimetype": "text/x-python",
   "name": "python",
   "nbconvert_exporter": "python",
   "pygments_lexer": "ipython3",
   "version": "3.8.5"
  }
 },
 "nbformat": 4,
 "nbformat_minor": 4
}
