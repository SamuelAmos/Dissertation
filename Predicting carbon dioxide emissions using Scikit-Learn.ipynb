{
 "cells": [
  {
   "cell_type": "code",
   "execution_count": 1,
   "metadata": {},
   "outputs": [],
   "source": [
    "#Libraries used\n",
    "import pandas as pd\n",
    "import numpy as np\n",
    "from sklearn.preprocessing import OneHotEncoder\n",
    "from sklearn.pipeline import Pipeline\n",
    "from sklearn.preprocessing import StandardScaler\n",
    "from sklearn.impute import SimpleImputer\n",
    "from sklearn.compose import ColumnTransformer\n",
    "from sklearn.model_selection import KFold\n",
    "from sklearn.model_selection import GridSearchCV\n",
    "from sklearn.linear_model import LinearRegression\n",
    "from sklearn import linear_model\n",
    "from sklearn.linear_model import LassoCV\n",
    "from sklearn.model_selection import RandomizedSearchCV\n",
    "from sklearn.tree import DecisionTreeRegressor\n",
    "from sklearn.ensemble import RandomForestRegressor\n",
    "from sklearn.neighbors import KNeighborsRegressor\n",
    "from sklearn import linear_model\n",
    "from sklearn.model_selection import cross_val_score\n",
    "from sklearn.model_selection import cross_val_predict\n",
    "from sklearn import metrics"
   ]
  },
  {
   "cell_type": "code",
   "execution_count": 2,
   "metadata": {},
   "outputs": [],
   "source": [
    "#Load database from https://mrv.emsa.europa.eu/#public/emission-report\n",
    "data20=pd.read_excel(\"2020-v25-01082021-EU MRV Publication of information.xlsx\",index_col=0,skiprows=2)\n",
    "data20=data20.rename(columns={\"Time spent at sea [hours]\": \"Total time spent at sea [hours]\", \"Annual Time spent at sea [hours]\": \"Annual Total time spent at sea [hours]\"})"
   ]
  },
  {
   "cell_type": "code",
   "execution_count": 3,
   "metadata": {},
   "outputs": [],
   "source": [
    "#Removing ships that didn't travel\n",
    "data20['Annual average Fuel consumption per distance [kg / n mile]'] = pd.to_numeric(data20['Annual average Fuel consumption per distance [kg / n mile]'], errors='coerce')\n",
    "data20=data20.dropna(subset=[\"Annual average Fuel consumption per distance [kg / n mile]\"])\n"
   ]
  },
  {
   "cell_type": "code",
   "execution_count": 4,
   "metadata": {},
   "outputs": [],
   "source": [
    "# Convert technical efficiency to numeric data\n",
    "data20[\"Technical efficiency (gCO₂/t·nm)\"]=data20[\"Technical efficiency\"].str.replace(r\"\\D+\",'')\n",
    "data20['Technical efficiency (gCO₂/t·nm)'] = pd.to_numeric(data20['Technical efficiency (gCO₂/t·nm)'], errors='coerce')\n",
    "data20=data20.dropna(subset=[\"Technical efficiency (gCO₂/t·nm)\"])\n",
    "data20['Technical efficiency (gCO₂/t·nm)']=data20['Technical efficiency (gCO₂/t·nm)']/100"
   ]
  },
  {
   "cell_type": "code",
   "execution_count": 5,
   "metadata": {},
   "outputs": [],
   "source": [
    "#Calculating distance of ships\n",
    "data20[\"Distance travelled(n miles)\"]=(data20[\"Total fuel consumption [m tonnes]\"]/data20[\"Annual average Fuel consumption per distance [kg / n mile]\"])*1000"
   ]
  },
  {
   "cell_type": "code",
   "execution_count": 6,
   "metadata": {},
   "outputs": [],
   "source": [
    "#Calculating Speed of ships\n",
    "data20[\"Average speed (n miles/hour)\"]=data20[\"Distance travelled(n miles)\"]/data20[\"Annual Total time spent at sea [hours]\"]"
   ]
  },
  {
   "cell_type": "code",
   "execution_count": 7,
   "metadata": {},
   "outputs": [
    {
     "data": {
      "text/html": [
       "<div>\n",
       "<style scoped>\n",
       "    .dataframe tbody tr th:only-of-type {\n",
       "        vertical-align: middle;\n",
       "    }\n",
       "\n",
       "    .dataframe tbody tr th {\n",
       "        vertical-align: top;\n",
       "    }\n",
       "\n",
       "    .dataframe thead th {\n",
       "        text-align: right;\n",
       "    }\n",
       "</style>\n",
       "<table border=\"1\" class=\"dataframe\">\n",
       "  <thead>\n",
       "    <tr style=\"text-align: right;\">\n",
       "      <th></th>\n",
       "      <th>Ship type</th>\n",
       "      <th>Technical efficiency (gCO₂/t·nm)</th>\n",
       "      <th>Distance travelled(n miles)</th>\n",
       "      <th>Total time spent at sea [hours]</th>\n",
       "    </tr>\n",
       "    <tr>\n",
       "      <th>IMO Number</th>\n",
       "      <th></th>\n",
       "      <th></th>\n",
       "      <th></th>\n",
       "      <th></th>\n",
       "    </tr>\n",
       "  </thead>\n",
       "  <tbody>\n",
       "    <tr>\n",
       "      <th>6602898</th>\n",
       "      <td>Passenger ship</td>\n",
       "      <td>31.73</td>\n",
       "      <td>7203.528432</td>\n",
       "      <td>488.87</td>\n",
       "    </tr>\n",
       "    <tr>\n",
       "      <th>6703343</th>\n",
       "      <td>Other ship types</td>\n",
       "      <td>57.84</td>\n",
       "      <td>5538.650307</td>\n",
       "      <td>603.00</td>\n",
       "    </tr>\n",
       "    <tr>\n",
       "      <th>7037806</th>\n",
       "      <td>Ro-pax ship</td>\n",
       "      <td>1.94</td>\n",
       "      <td>14849.610315</td>\n",
       "      <td>995.00</td>\n",
       "    </tr>\n",
       "    <tr>\n",
       "      <th>7043843</th>\n",
       "      <td>Ro-ro ship</td>\n",
       "      <td>48.71</td>\n",
       "      <td>40842.097075</td>\n",
       "      <td>3109.20</td>\n",
       "    </tr>\n",
       "    <tr>\n",
       "      <th>7128332</th>\n",
       "      <td>Ro-pax ship</td>\n",
       "      <td>9.29</td>\n",
       "      <td>47931.440443</td>\n",
       "      <td>3619.00</td>\n",
       "    </tr>\n",
       "  </tbody>\n",
       "</table>\n",
       "</div>"
      ],
      "text/plain": [
       "                   Ship type  Technical efficiency (gCO₂/t·nm)  \\\n",
       "IMO Number                                                       \n",
       "6602898       Passenger ship                             31.73   \n",
       "6703343     Other ship types                             57.84   \n",
       "7037806          Ro-pax ship                              1.94   \n",
       "7043843           Ro-ro ship                             48.71   \n",
       "7128332          Ro-pax ship                              9.29   \n",
       "\n",
       "            Distance travelled(n miles)  Total time spent at sea [hours]  \n",
       "IMO Number                                                                \n",
       "6602898                     7203.528432                           488.87  \n",
       "6703343                     5538.650307                           603.00  \n",
       "7037806                    14849.610315                           995.00  \n",
       "7043843                    40842.097075                          3109.20  \n",
       "7128332                    47931.440443                          3619.00  "
      ]
     },
     "execution_count": 7,
     "metadata": {},
     "output_type": "execute_result"
    }
   ],
   "source": [
    "#Create dataset containing independent variable columns to be used to build the model\n",
    "\n",
    "data=data20[[\"Ship type\",\"Technical efficiency (gCO₂/t·nm)\",\"Distance travelled(n miles)\",\"Total time spent at sea [hours]\"]]\n",
    "data.head()"
   ]
  },
  {
   "cell_type": "code",
   "execution_count": 8,
   "metadata": {},
   "outputs": [],
   "source": [
    "# Standardise the numerical variables\n",
    "Shipping_num = data.drop(\"Ship type\", axis=1)\n",
    "\n",
    "num_pipeline = Pipeline([\n",
    "        ('imputer', SimpleImputer(strategy=\"median\")),\n",
    "        ('std_scaler', StandardScaler()),\n",
    "    ])\n",
    "\n",
    "shipping_num_tr = num_pipeline.fit_transform(Shipping_num)"
   ]
  },
  {
   "cell_type": "code",
   "execution_count": 9,
   "metadata": {},
   "outputs": [
    {
     "data": {
      "text/plain": [
       "<10831x18 sparse matrix of type '<class 'numpy.float64'>'\n",
       "\twith 43324 stored elements in Compressed Sparse Row format>"
      ]
     },
     "execution_count": 9,
     "metadata": {},
     "output_type": "execute_result"
    }
   ],
   "source": [
    "# One hot encode the catergorical variables and combine with the standardised numeric variables\n",
    "\n",
    "num_attribs = list(Shipping_num)\n",
    "cat_attribs = [\"Ship type\"]\n",
    "\n",
    "full_pipeline = ColumnTransformer([\n",
    "        (\"num\", num_pipeline, num_attribs),\n",
    "        (\"cat\", OneHotEncoder(), cat_attribs),\n",
    "    ])\n",
    "\n",
    "Shipping = full_pipeline.fit_transform(data)\n",
    "Shipping"
   ]
  },
  {
   "cell_type": "code",
   "execution_count": 10,
   "metadata": {},
   "outputs": [],
   "source": [
    "#Create target variable dataframe\n",
    "\n",
    "TargetV=data20[[\"Total CO₂ emissions [m tonnes]\"]]"
   ]
  },
  {
   "cell_type": "code",
   "execution_count": 11,
   "metadata": {},
   "outputs": [
    {
     "name": "stdout",
     "output_type": "stream",
     "text": [
      "Mean root mean squared error is:  6600.08 Standard deviation is:  123.55\n"
     ]
    }
   ],
   "source": [
    "#Model 1 Linear regression\n",
    "\n",
    "lr=LinearRegression()\n",
    "\n",
    "kfold = KFold(n_splits=8, shuffle=True, random_state=7)\n",
    "lr_results = cross_val_score(lr, Shipping, TargetV, cv=kfold, scoring=\"neg_root_mean_squared_error\")\n",
    "print(\"Mean root mean squared error is: \",-np.round(lr_results.mean(),2),\"Standard deviation is: \", np.round(lr_results.std(),2))\n"
   ]
  },
  {
   "cell_type": "code",
   "execution_count": 12,
   "metadata": {},
   "outputs": [
    {
     "name": "stdout",
     "output_type": "stream",
     "text": [
      "Mean root mean squared error is:  6600.15 Standard deviation is:  121.66\n"
     ]
    }
   ],
   "source": [
    "#Model 2 Ridge regression\n",
    "\n",
    "cv_inner = KFold(n_splits=3, shuffle=True, random_state=7)\n",
    "\n",
    "ridge = linear_model.Ridge()\n",
    "\n",
    "\n",
    "params ={\"alpha\":[0.1, 1,10]}\n",
    "\n",
    "\n",
    "model = GridSearchCV(ridge, params, scoring='neg_root_mean_squared_error', cv=cv_inner, refit=True)\n",
    "\n",
    "cv_outer = KFold(n_splits=8, shuffle=True, random_state=7)\n",
    "\n",
    "ridge_results = cross_val_score(model, Shipping, TargetV, scoring='neg_root_mean_squared_error', cv=cv_outer)\n",
    "print(\"Mean root mean squared error is: \",-np.round(ridge_results.mean(),2),\"Standard deviation is: \", np.round(ridge_results.std(),2))"
   ]
  },
  {
   "cell_type": "code",
   "execution_count": 13,
   "metadata": {},
   "outputs": [
    {
     "name": "stderr",
     "output_type": "stream",
     "text": [
      "C:\\Users\\samos\\anaconda31\\lib\\site-packages\\sklearn\\linear_model\\_coordinate_descent.py:512: ConvergenceWarning: Objective did not converge. You might want to increase the number of iterations. Duality gap: 15782763344.850067, tolerance: 112502335.18424812\n",
      "  model = cd_fast.sparse_enet_coordinate_descent(\n",
      "C:\\Users\\samos\\anaconda31\\lib\\site-packages\\sklearn\\linear_model\\_coordinate_descent.py:512: ConvergenceWarning: Objective did not converge. You might want to increase the number of iterations. Duality gap: 16248040948.345184, tolerance: 112866166.87984122\n",
      "  model = cd_fast.sparse_enet_coordinate_descent(\n",
      "C:\\Users\\samos\\anaconda31\\lib\\site-packages\\sklearn\\linear_model\\_coordinate_descent.py:512: ConvergenceWarning: Objective did not converge. You might want to increase the number of iterations. Duality gap: 27902810212.086853, tolerance: 111653876.95727153\n",
      "  model = cd_fast.sparse_enet_coordinate_descent(\n",
      "C:\\Users\\samos\\anaconda31\\lib\\site-packages\\sklearn\\linear_model\\_coordinate_descent.py:512: ConvergenceWarning: Objective did not converge. You might want to increase the number of iterations. Duality gap: 29150433634.85266, tolerance: 112502335.18424812\n",
      "  model = cd_fast.sparse_enet_coordinate_descent(\n",
      "C:\\Users\\samos\\anaconda31\\lib\\site-packages\\sklearn\\linear_model\\_coordinate_descent.py:512: ConvergenceWarning: Objective did not converge. You might want to increase the number of iterations. Duality gap: 16228822495.84018, tolerance: 112866166.87984122\n",
      "  model = cd_fast.sparse_enet_coordinate_descent(\n",
      "C:\\Users\\samos\\anaconda31\\lib\\site-packages\\sklearn\\linear_model\\_coordinate_descent.py:512: ConvergenceWarning: Objective did not converge. You might want to increase the number of iterations. Duality gap: 27879638691.819366, tolerance: 111653876.95727153\n",
      "  model = cd_fast.sparse_enet_coordinate_descent(\n",
      "C:\\Users\\samos\\anaconda31\\lib\\site-packages\\sklearn\\linear_model\\_coordinate_descent.py:512: ConvergenceWarning: Objective did not converge. You might want to increase the number of iterations. Duality gap: 29147778220.428314, tolerance: 112502335.18424812\n",
      "  model = cd_fast.sparse_enet_coordinate_descent(\n",
      "C:\\Users\\samos\\anaconda31\\lib\\site-packages\\sklearn\\linear_model\\_coordinate_descent.py:512: ConvergenceWarning: Objective did not converge. You might want to increase the number of iterations. Duality gap: 16226775148.241486, tolerance: 112866166.87984122\n",
      "  model = cd_fast.sparse_enet_coordinate_descent(\n",
      "C:\\Users\\samos\\anaconda31\\lib\\site-packages\\sklearn\\linear_model\\_coordinate_descent.py:512: ConvergenceWarning: Objective did not converge. You might want to increase the number of iterations. Duality gap: 27876981759.837433, tolerance: 111653876.95727153\n",
      "  model = cd_fast.sparse_enet_coordinate_descent(\n",
      "C:\\Users\\samos\\anaconda31\\lib\\site-packages\\sklearn\\linear_model\\_coordinate_descent.py:512: ConvergenceWarning: Objective did not converge. You might want to increase the number of iterations. Duality gap: 23606724850.46997, tolerance: 168513943.40043107\n",
      "  model = cd_fast.sparse_enet_coordinate_descent(\n",
      "C:\\Users\\samos\\anaconda31\\lib\\site-packages\\sklearn\\linear_model\\_coordinate_descent.py:512: ConvergenceWarning: Objective did not converge. You might want to increase the number of iterations. Duality gap: 28316382622.79718, tolerance: 108396745.32203232\n",
      "  model = cd_fast.sparse_enet_coordinate_descent(\n",
      "C:\\Users\\samos\\anaconda31\\lib\\site-packages\\sklearn\\linear_model\\_coordinate_descent.py:512: ConvergenceWarning: Objective did not converge. You might want to increase the number of iterations. Duality gap: 16167684558.543945, tolerance: 112974143.11373094\n",
      "  model = cd_fast.sparse_enet_coordinate_descent(\n",
      "C:\\Users\\samos\\anaconda31\\lib\\site-packages\\sklearn\\linear_model\\_coordinate_descent.py:512: ConvergenceWarning: Objective did not converge. You might want to increase the number of iterations. Duality gap: 14828313449.808838, tolerance: 111786900.36620553\n",
      "  model = cd_fast.sparse_enet_coordinate_descent(\n",
      "C:\\Users\\samos\\anaconda31\\lib\\site-packages\\sklearn\\linear_model\\_coordinate_descent.py:512: ConvergenceWarning: Objective did not converge. You might want to increase the number of iterations. Duality gap: 28291881528.424713, tolerance: 108396745.32203232\n",
      "  model = cd_fast.sparse_enet_coordinate_descent(\n",
      "C:\\Users\\samos\\anaconda31\\lib\\site-packages\\sklearn\\linear_model\\_coordinate_descent.py:512: ConvergenceWarning: Objective did not converge. You might want to increase the number of iterations. Duality gap: 16148726896.645844, tolerance: 112974143.11373094\n",
      "  model = cd_fast.sparse_enet_coordinate_descent(\n",
      "C:\\Users\\samos\\anaconda31\\lib\\site-packages\\sklearn\\linear_model\\_coordinate_descent.py:512: ConvergenceWarning: Objective did not converge. You might want to increase the number of iterations. Duality gap: 14809354105.575867, tolerance: 111786900.36620553\n",
      "  model = cd_fast.sparse_enet_coordinate_descent(\n",
      "C:\\Users\\samos\\anaconda31\\lib\\site-packages\\sklearn\\linear_model\\_coordinate_descent.py:512: ConvergenceWarning: Objective did not converge. You might want to increase the number of iterations. Duality gap: 28289092838.235382, tolerance: 108396745.32203232\n",
      "  model = cd_fast.sparse_enet_coordinate_descent(\n",
      "C:\\Users\\samos\\anaconda31\\lib\\site-packages\\sklearn\\linear_model\\_coordinate_descent.py:512: ConvergenceWarning: Objective did not converge. You might want to increase the number of iterations. Duality gap: 16146708014.522278, tolerance: 112974143.11373094\n",
      "  model = cd_fast.sparse_enet_coordinate_descent(\n",
      "C:\\Users\\samos\\anaconda31\\lib\\site-packages\\sklearn\\linear_model\\_coordinate_descent.py:512: ConvergenceWarning: Objective did not converge. You might want to increase the number of iterations. Duality gap: 14807334987.085083, tolerance: 111786900.36620553\n",
      "  model = cd_fast.sparse_enet_coordinate_descent(\n",
      "C:\\Users\\samos\\anaconda31\\lib\\site-packages\\sklearn\\linear_model\\_coordinate_descent.py:512: ConvergenceWarning: Objective did not converge. You might want to increase the number of iterations. Duality gap: 23252822576.962585, tolerance: 166579908.79716265\n",
      "  model = cd_fast.sparse_enet_coordinate_descent(\n",
      "C:\\Users\\samos\\anaconda31\\lib\\site-packages\\sklearn\\linear_model\\_coordinate_descent.py:512: ConvergenceWarning: Objective did not converge. You might want to increase the number of iterations. Duality gap: 16416240131.575531, tolerance: 112758417.6820929\n",
      "  model = cd_fast.sparse_enet_coordinate_descent(\n",
      "C:\\Users\\samos\\anaconda31\\lib\\site-packages\\sklearn\\linear_model\\_coordinate_descent.py:512: ConvergenceWarning: Objective did not converge. You might want to increase the number of iterations. Duality gap: 16444829602.713684, tolerance: 113176660.42718248\n",
      "  model = cd_fast.sparse_enet_coordinate_descent(\n",
      "C:\\Users\\samos\\anaconda31\\lib\\site-packages\\sklearn\\linear_model\\_coordinate_descent.py:512: ConvergenceWarning: Objective did not converge. You might want to increase the number of iterations. Duality gap: 27543693273.09088, tolerance: 110454991.51930958\n",
      "  model = cd_fast.sparse_enet_coordinate_descent(\n",
      "C:\\Users\\samos\\anaconda31\\lib\\site-packages\\sklearn\\linear_model\\_coordinate_descent.py:512: ConvergenceWarning: Objective did not converge. You might want to increase the number of iterations. Duality gap: 30241523108.287964, tolerance: 112758417.6820929\n",
      "  model = cd_fast.sparse_enet_coordinate_descent(\n",
      "C:\\Users\\samos\\anaconda31\\lib\\site-packages\\sklearn\\linear_model\\_coordinate_descent.py:512: ConvergenceWarning: Objective did not converge. You might want to increase the number of iterations. Duality gap: 16426054084.13797, tolerance: 113176660.42718248\n",
      "  model = cd_fast.sparse_enet_coordinate_descent(\n",
      "C:\\Users\\samos\\anaconda31\\lib\\site-packages\\sklearn\\linear_model\\_coordinate_descent.py:512: ConvergenceWarning: Objective did not converge. You might want to increase the number of iterations. Duality gap: 27519162323.884857, tolerance: 110454991.51930958\n",
      "  model = cd_fast.sparse_enet_coordinate_descent(\n",
      "C:\\Users\\samos\\anaconda31\\lib\\site-packages\\sklearn\\linear_model\\_coordinate_descent.py:512: ConvergenceWarning: Objective did not converge. You might want to increase the number of iterations. Duality gap: 30238761235.18933, tolerance: 112758417.6820929\n",
      "  model = cd_fast.sparse_enet_coordinate_descent(\n"
     ]
    },
    {
     "name": "stderr",
     "output_type": "stream",
     "text": [
      "C:\\Users\\samos\\anaconda31\\lib\\site-packages\\sklearn\\linear_model\\_coordinate_descent.py:512: ConvergenceWarning: Objective did not converge. You might want to increase the number of iterations. Duality gap: 16424052403.021637, tolerance: 113176660.42718248\n",
      "  model = cd_fast.sparse_enet_coordinate_descent(\n",
      "C:\\Users\\samos\\anaconda31\\lib\\site-packages\\sklearn\\linear_model\\_coordinate_descent.py:512: ConvergenceWarning: Objective did not converge. You might want to increase the number of iterations. Duality gap: 27516372392.770508, tolerance: 110454991.51930958\n",
      "  model = cd_fast.sparse_enet_coordinate_descent(\n",
      "C:\\Users\\samos\\anaconda31\\lib\\site-packages\\sklearn\\linear_model\\_coordinate_descent.py:512: ConvergenceWarning: Objective did not converge. You might want to increase the number of iterations. Duality gap: 15905150652.430847, tolerance: 110808236.30421305\n",
      "  model = cd_fast.sparse_enet_coordinate_descent(\n",
      "C:\\Users\\samos\\anaconda31\\lib\\site-packages\\sklearn\\linear_model\\_coordinate_descent.py:512: ConvergenceWarning: Objective did not converge. You might want to increase the number of iterations. Duality gap: 28835901350.60898, tolerance: 108201020.81291981\n",
      "  model = cd_fast.sparse_enet_coordinate_descent(\n",
      "C:\\Users\\samos\\anaconda31\\lib\\site-packages\\sklearn\\linear_model\\_coordinate_descent.py:512: ConvergenceWarning: Objective did not converge. You might want to increase the number of iterations. Duality gap: 14987745866.868591, tolerance: 110021214.7195729\n",
      "  model = cd_fast.sparse_enet_coordinate_descent(\n",
      "C:\\Users\\samos\\anaconda31\\lib\\site-packages\\sklearn\\linear_model\\_coordinate_descent.py:512: ConvergenceWarning: Objective did not converge. You might want to increase the number of iterations. Duality gap: 29235006322.08908, tolerance: 110808236.30421305\n",
      "  model = cd_fast.sparse_enet_coordinate_descent(\n",
      "C:\\Users\\samos\\anaconda31\\lib\\site-packages\\sklearn\\linear_model\\_coordinate_descent.py:512: ConvergenceWarning: Objective did not converge. You might want to increase the number of iterations. Duality gap: 28812291551.199127, tolerance: 108201020.81291981\n",
      "  model = cd_fast.sparse_enet_coordinate_descent(\n",
      "C:\\Users\\samos\\anaconda31\\lib\\site-packages\\sklearn\\linear_model\\_coordinate_descent.py:512: ConvergenceWarning: Objective did not converge. You might want to increase the number of iterations. Duality gap: 14969459186.52353, tolerance: 110021214.7195729\n",
      "  model = cd_fast.sparse_enet_coordinate_descent(\n",
      "C:\\Users\\samos\\anaconda31\\lib\\site-packages\\sklearn\\linear_model\\_coordinate_descent.py:512: ConvergenceWarning: Objective did not converge. You might want to increase the number of iterations. Duality gap: 29232258193.22119, tolerance: 110808236.30421305\n",
      "  model = cd_fast.sparse_enet_coordinate_descent(\n",
      "C:\\Users\\samos\\anaconda31\\lib\\site-packages\\sklearn\\linear_model\\_coordinate_descent.py:512: ConvergenceWarning: Objective did not converge. You might want to increase the number of iterations. Duality gap: 28809593181.52063, tolerance: 108201020.81291981\n",
      "  model = cd_fast.sparse_enet_coordinate_descent(\n",
      "C:\\Users\\samos\\anaconda31\\lib\\site-packages\\sklearn\\linear_model\\_coordinate_descent.py:512: ConvergenceWarning: Objective did not converge. You might want to increase the number of iterations. Duality gap: 14967507012.649261, tolerance: 110021214.7195729\n",
      "  model = cd_fast.sparse_enet_coordinate_descent(\n",
      "C:\\Users\\samos\\anaconda31\\lib\\site-packages\\sklearn\\linear_model\\_coordinate_descent.py:512: ConvergenceWarning: Objective did not converge. You might want to increase the number of iterations. Duality gap: 14506586442.904083, tolerance: 109582776.86150339\n",
      "  model = cd_fast.sparse_enet_coordinate_descent(\n",
      "C:\\Users\\samos\\anaconda31\\lib\\site-packages\\sklearn\\linear_model\\_coordinate_descent.py:512: ConvergenceWarning: Objective did not converge. You might want to increase the number of iterations. Duality gap: 16948595538.181244, tolerance: 114416014.80784836\n",
      "  model = cd_fast.sparse_enet_coordinate_descent(\n",
      "C:\\Users\\samos\\anaconda31\\lib\\site-packages\\sklearn\\linear_model\\_coordinate_descent.py:512: ConvergenceWarning: Objective did not converge. You might want to increase the number of iterations. Duality gap: 29513359923.679565, tolerance: 113283767.49541149\n",
      "  model = cd_fast.sparse_enet_coordinate_descent(\n",
      "C:\\Users\\samos\\anaconda31\\lib\\site-packages\\sklearn\\linear_model\\_coordinate_descent.py:512: ConvergenceWarning: Objective did not converge. You might want to increase the number of iterations. Duality gap: 26970286565.034607, tolerance: 109582776.86150339\n",
      "  model = cd_fast.sparse_enet_coordinate_descent(\n",
      "C:\\Users\\samos\\anaconda31\\lib\\site-packages\\sklearn\\linear_model\\_coordinate_descent.py:512: ConvergenceWarning: Objective did not converge. You might want to increase the number of iterations. Duality gap: 30966570802.144928, tolerance: 114416014.80784836\n",
      "  model = cd_fast.sparse_enet_coordinate_descent(\n",
      "C:\\Users\\samos\\anaconda31\\lib\\site-packages\\sklearn\\linear_model\\_coordinate_descent.py:512: ConvergenceWarning: Objective did not converge. You might want to increase the number of iterations. Duality gap: 29489569530.41507, tolerance: 113283767.49541149\n",
      "  model = cd_fast.sparse_enet_coordinate_descent(\n",
      "C:\\Users\\samos\\anaconda31\\lib\\site-packages\\sklearn\\linear_model\\_coordinate_descent.py:512: ConvergenceWarning: Objective did not converge. You might want to increase the number of iterations. Duality gap: 26967607057.378143, tolerance: 109582776.86150339\n",
      "  model = cd_fast.sparse_enet_coordinate_descent(\n",
      "C:\\Users\\samos\\anaconda31\\lib\\site-packages\\sklearn\\linear_model\\_coordinate_descent.py:512: ConvergenceWarning: Objective did not converge. You might want to increase the number of iterations. Duality gap: 30963717773.144592, tolerance: 114416014.80784836\n",
      "  model = cd_fast.sparse_enet_coordinate_descent(\n",
      "C:\\Users\\samos\\anaconda31\\lib\\site-packages\\sklearn\\linear_model\\_coordinate_descent.py:512: ConvergenceWarning: Objective did not converge. You might want to increase the number of iterations. Duality gap: 29486852768.32788, tolerance: 113283767.49541149\n",
      "  model = cd_fast.sparse_enet_coordinate_descent(\n",
      "C:\\Users\\samos\\anaconda31\\lib\\site-packages\\sklearn\\linear_model\\_coordinate_descent.py:512: ConvergenceWarning: Objective did not converge. You might want to increase the number of iterations. Duality gap: 41333274611.17096, tolerance: 168647658.68807632\n",
      "  model = cd_fast.sparse_enet_coordinate_descent(\n",
      "C:\\Users\\samos\\anaconda31\\lib\\site-packages\\sklearn\\linear_model\\_coordinate_descent.py:512: ConvergenceWarning: Objective did not converge. You might want to increase the number of iterations. Duality gap: 28570555196.349792, tolerance: 113478918.51714386\n",
      "  model = cd_fast.sparse_enet_coordinate_descent(\n",
      "C:\\Users\\samos\\anaconda31\\lib\\site-packages\\sklearn\\linear_model\\_coordinate_descent.py:512: ConvergenceWarning: Objective did not converge. You might want to increase the number of iterations. Duality gap: 14884263074.355377, tolerance: 108671316.55665602\n",
      "  model = cd_fast.sparse_enet_coordinate_descent(\n",
      "C:\\Users\\samos\\anaconda31\\lib\\site-packages\\sklearn\\linear_model\\_coordinate_descent.py:512: ConvergenceWarning: Objective did not converge. You might want to increase the number of iterations. Duality gap: 16405762537.527527, tolerance: 108746158.28647573\n",
      "  model = cd_fast.sparse_enet_coordinate_descent(\n",
      "C:\\Users\\samos\\anaconda31\\lib\\site-packages\\sklearn\\linear_model\\_coordinate_descent.py:512: ConvergenceWarning: Objective did not converge. You might want to increase the number of iterations. Duality gap: 28546445624.184906, tolerance: 113478918.51714386\n",
      "  model = cd_fast.sparse_enet_coordinate_descent(\n",
      "C:\\Users\\samos\\anaconda31\\lib\\site-packages\\sklearn\\linear_model\\_coordinate_descent.py:512: ConvergenceWarning: Objective did not converge. You might want to increase the number of iterations. Duality gap: 27496915310.766907, tolerance: 108671316.55665602\n",
      "  model = cd_fast.sparse_enet_coordinate_descent(\n",
      "C:\\Users\\samos\\anaconda31\\lib\\site-packages\\sklearn\\linear_model\\_coordinate_descent.py:512: ConvergenceWarning: Objective did not converge. You might want to increase the number of iterations. Duality gap: 16387200334.917267, tolerance: 108746158.28647573\n",
      "  model = cd_fast.sparse_enet_coordinate_descent(\n"
     ]
    },
    {
     "name": "stderr",
     "output_type": "stream",
     "text": [
      "C:\\Users\\samos\\anaconda31\\lib\\site-packages\\sklearn\\linear_model\\_coordinate_descent.py:512: ConvergenceWarning: Objective did not converge. You might want to increase the number of iterations. Duality gap: 28543696983.443634, tolerance: 113478918.51714386\n",
      "  model = cd_fast.sparse_enet_coordinate_descent(\n",
      "C:\\Users\\samos\\anaconda31\\lib\\site-packages\\sklearn\\linear_model\\_coordinate_descent.py:512: ConvergenceWarning: Objective did not converge. You might want to increase the number of iterations. Duality gap: 27494237455.057037, tolerance: 108671316.55665602\n",
      "  model = cd_fast.sparse_enet_coordinate_descent(\n",
      "C:\\Users\\samos\\anaconda31\\lib\\site-packages\\sklearn\\linear_model\\_coordinate_descent.py:512: ConvergenceWarning: Objective did not converge. You might want to increase the number of iterations. Duality gap: 16385219994.654053, tolerance: 108746158.28647573\n",
      "  model = cd_fast.sparse_enet_coordinate_descent(\n",
      "C:\\Users\\samos\\anaconda31\\lib\\site-packages\\sklearn\\linear_model\\_coordinate_descent.py:512: ConvergenceWarning: Objective did not converge. You might want to increase the number of iterations. Duality gap: 27554470576.197113, tolerance: 109934512.79185978\n",
      "  model = cd_fast.sparse_enet_coordinate_descent(\n",
      "C:\\Users\\samos\\anaconda31\\lib\\site-packages\\sklearn\\linear_model\\_coordinate_descent.py:512: ConvergenceWarning: Objective did not converge. You might want to increase the number of iterations. Duality gap: 16023892752.527252, tolerance: 109417234.94288135\n",
      "  model = cd_fast.sparse_enet_coordinate_descent(\n",
      "C:\\Users\\samos\\anaconda31\\lib\\site-packages\\sklearn\\linear_model\\_coordinate_descent.py:512: ConvergenceWarning: Objective did not converge. You might want to increase the number of iterations. Duality gap: 15877945876.159851, tolerance: 115512841.18240283\n",
      "  model = cd_fast.sparse_enet_coordinate_descent(\n",
      "C:\\Users\\samos\\anaconda31\\lib\\site-packages\\sklearn\\linear_model\\_coordinate_descent.py:512: ConvergenceWarning: Objective did not converge. You might want to increase the number of iterations. Duality gap: 27531451593.963745, tolerance: 109934512.79185978\n",
      "  model = cd_fast.sparse_enet_coordinate_descent(\n",
      "C:\\Users\\samos\\anaconda31\\lib\\site-packages\\sklearn\\linear_model\\_coordinate_descent.py:512: ConvergenceWarning: Objective did not converge. You might want to increase the number of iterations. Duality gap: 29411560674.438263, tolerance: 109417234.94288135\n",
      "  model = cd_fast.sparse_enet_coordinate_descent(\n",
      "C:\\Users\\samos\\anaconda31\\lib\\site-packages\\sklearn\\linear_model\\_coordinate_descent.py:512: ConvergenceWarning: Objective did not converge. You might want to increase the number of iterations. Duality gap: 15858849258.356873, tolerance: 115512841.18240283\n",
      "  model = cd_fast.sparse_enet_coordinate_descent(\n",
      "C:\\Users\\samos\\anaconda31\\lib\\site-packages\\sklearn\\linear_model\\_coordinate_descent.py:512: ConvergenceWarning: Objective did not converge. You might want to increase the number of iterations. Duality gap: 27528812525.04016, tolerance: 109934512.79185978\n",
      "  model = cd_fast.sparse_enet_coordinate_descent(\n",
      "C:\\Users\\samos\\anaconda31\\lib\\site-packages\\sklearn\\linear_model\\_coordinate_descent.py:512: ConvergenceWarning: Objective did not converge. You might want to increase the number of iterations. Duality gap: 29408866612.386078, tolerance: 109417234.94288135\n",
      "  model = cd_fast.sparse_enet_coordinate_descent(\n",
      "C:\\Users\\samos\\anaconda31\\lib\\site-packages\\sklearn\\linear_model\\_coordinate_descent.py:512: ConvergenceWarning: Objective did not converge. You might want to increase the number of iterations. Duality gap: 15856816668.769318, tolerance: 115512841.18240283\n",
      "  model = cd_fast.sparse_enet_coordinate_descent(\n",
      "C:\\Users\\samos\\anaconda31\\lib\\site-packages\\sklearn\\linear_model\\_coordinate_descent.py:512: ConvergenceWarning: Objective did not converge. You might want to increase the number of iterations. Duality gap: 29318811774.536682, tolerance: 114129728.96933058\n",
      "  model = cd_fast.sparse_enet_coordinate_descent(\n",
      "C:\\Users\\samos\\anaconda31\\lib\\site-packages\\sklearn\\linear_model\\_coordinate_descent.py:512: ConvergenceWarning: Objective did not converge. You might want to increase the number of iterations. Duality gap: 29327896221.207245, tolerance: 113755883.54019798\n",
      "  model = cd_fast.sparse_enet_coordinate_descent(\n",
      "C:\\Users\\samos\\anaconda31\\lib\\site-packages\\sklearn\\linear_model\\_coordinate_descent.py:512: ConvergenceWarning: Objective did not converge. You might want to increase the number of iterations. Duality gap: 27257868636.677002, tolerance: 104689124.60546836\n",
      "  model = cd_fast.sparse_enet_coordinate_descent(\n",
      "C:\\Users\\samos\\anaconda31\\lib\\site-packages\\sklearn\\linear_model\\_coordinate_descent.py:512: ConvergenceWarning: Objective did not converge. You might want to increase the number of iterations. Duality gap: 29294108367.10498, tolerance: 114129728.96933058\n",
      "  model = cd_fast.sparse_enet_coordinate_descent(\n",
      "C:\\Users\\samos\\anaconda31\\lib\\site-packages\\sklearn\\linear_model\\_coordinate_descent.py:512: ConvergenceWarning: Objective did not converge. You might want to increase the number of iterations. Duality gap: 29304074322.76303, tolerance: 113755883.54019798\n",
      "  model = cd_fast.sparse_enet_coordinate_descent(\n",
      "C:\\Users\\samos\\anaconda31\\lib\\site-packages\\sklearn\\linear_model\\_coordinate_descent.py:512: ConvergenceWarning: Objective did not converge. You might want to increase the number of iterations. Duality gap: 27235051311.195007, tolerance: 104689124.60546836\n",
      "  model = cd_fast.sparse_enet_coordinate_descent(\n",
      "C:\\Users\\samos\\anaconda31\\lib\\site-packages\\sklearn\\linear_model\\_coordinate_descent.py:512: ConvergenceWarning: Objective did not converge. You might want to increase the number of iterations. Duality gap: 29291299919.000793, tolerance: 114129728.96933058\n",
      "  model = cd_fast.sparse_enet_coordinate_descent(\n",
      "C:\\Users\\samos\\anaconda31\\lib\\site-packages\\sklearn\\linear_model\\_coordinate_descent.py:512: ConvergenceWarning: Objective did not converge. You might want to increase the number of iterations. Duality gap: 29301354972.89209, tolerance: 113755883.54019798\n",
      "  model = cd_fast.sparse_enet_coordinate_descent(\n",
      "C:\\Users\\samos\\anaconda31\\lib\\site-packages\\sklearn\\linear_model\\_coordinate_descent.py:512: ConvergenceWarning: Objective did not converge. You might want to increase the number of iterations. Duality gap: 27232431602.450226, tolerance: 104689124.60546836\n",
      "  model = cd_fast.sparse_enet_coordinate_descent(\n"
     ]
    },
    {
     "name": "stdout",
     "output_type": "stream",
     "text": [
      "Mean root mean squared error is:  6600.31 Standard deviation is:  124.43\n"
     ]
    }
   ],
   "source": [
    "#Model 3 Lasso regression\n",
    "\n",
    "cv_inner = KFold(n_splits=3, shuffle=True, random_state=7)\n",
    "\n",
    "lasso = linear_model.Lasso()\n",
    "\n",
    "\n",
    "params ={\"alpha\":[1, 0.1, 0.01,0.001]}\n",
    "\n",
    "\n",
    "lasso2 = GridSearchCV(lasso, params, scoring='neg_root_mean_squared_error', cv=cv_inner, refit=True)\n",
    "\n",
    "cv_outer = KFold(n_splits=8, shuffle=True, random_state=7)\n",
    "\n",
    "lasso_results = cross_val_score(lasso2, Shipping, TargetV, scoring=\"neg_root_mean_squared_error\", cv=kfold)\n",
    "print(\"Mean root mean squared error is: \",-np.round(lasso_results.mean(),2),\"Standard deviation is: \", np.round(lasso_results.std(),2))"
   ]
  },
  {
   "cell_type": "code",
   "execution_count": 14,
   "metadata": {},
   "outputs": [
    {
     "name": "stdout",
     "output_type": "stream",
     "text": [
      "Mean root mean squared error is:  5669.41 Standard deviation is:  248.71\n"
     ]
    }
   ],
   "source": [
    "#Model 4 Decision Tree\n",
    "\n",
    "cv_inner = KFold(n_splits=3, shuffle=True, random_state=7)\n",
    "\n",
    "DT = DecisionTreeRegressor()\n",
    "\n",
    "\n",
    "random_grid={\"splitter\":[\"best\",\"random\"],\n",
    "            \"max_depth\" : [1,3,5,7,9,11,12],\n",
    "            \"min_samples_leaf\":[1,2,3,4,5,6,7,8,9,10],\n",
    "            \"min_weight_fraction_leaf\":[0,0.5],\n",
    "            \"max_features\":[\"auto\",\"log2\",\"sqrt\",None],\n",
    "            \"max_leaf_nodes\":[None,10,20,30]}\n",
    "\n",
    "\n",
    "model2 = RandomizedSearchCV(estimator = DT, param_distributions = random_grid, n_iter = 100, cv = 3,random_state=7, n_jobs = -1)\n",
    "\n",
    "cv_outer = KFold(n_splits=8, shuffle=True, random_state=7)\n",
    "\n",
    "DT_results = cross_val_score(model2, Shipping, TargetV, scoring='neg_root_mean_squared_error', cv=cv_outer)\n",
    "print(\"Mean root mean squared error is: \",-np.round(DT_results.mean(),2),\"Standard deviation is: \", np.round(DT_results.std(),2))"
   ]
  },
  {
   "cell_type": "code",
   "execution_count": 15,
   "metadata": {},
   "outputs": [
    {
     "name": "stdout",
     "output_type": "stream",
     "text": [
      "Feature: 0, Score: 0.04685\n",
      "Feature: 1, Score: 0.63765\n",
      "Feature: 2, Score: 0.08942\n",
      "Feature: 3, Score: 0.00265\n",
      "Feature: 4, Score: 0.00398\n",
      "Feature: 5, Score: 0.00000\n",
      "Feature: 6, Score: 0.09334\n",
      "Feature: 7, Score: 0.00136\n",
      "Feature: 8, Score: 0.00045\n",
      "Feature: 9, Score: 0.00790\n",
      "Feature: 10, Score: 0.06771\n",
      "Feature: 11, Score: 0.00850\n",
      "Feature: 12, Score: 0.00059\n",
      "Feature: 13, Score: 0.00519\n",
      "Feature: 14, Score: 0.00021\n",
      "Feature: 15, Score: 0.02930\n",
      "Feature: 16, Score: 0.00476\n",
      "Feature: 17, Score: 0.00015\n"
     ]
    }
   ],
   "source": [
    "model2.fit(Shipping,TargetV)\n",
    "coefficients = model2.best_estimator_.feature_importances_\n",
    "for i,v in enumerate(coefficients):\n",
    "     print('Feature: %0d, Score: %.5f' % (i,v))"
   ]
  },
  {
   "cell_type": "code",
   "execution_count": 16,
   "metadata": {},
   "outputs": [
    {
     "name": "stdout",
     "output_type": "stream",
     "text": [
      "Mean root mean squared error is:  4469.59 Standard deviation is:  318.33\n"
     ]
    }
   ],
   "source": [
    "#Model 5 Random Forest Regression\n",
    "\n",
    "cv_inner = KFold(n_splits=3, shuffle=True, random_state=7)\n",
    "\n",
    "RF = RandomForestRegressor()\n",
    "\n",
    "random_grid={\"n_estimators\":[50,100,200,400,500,1000],\n",
    "             \"max_features\": [\"auto\", \"sqrt\"],\n",
    "             \"max_depth\":[1,3,5,7,9,11,12],\n",
    "             \"min_samples_split\":[2, 5, 10],\n",
    "             \"min_samples_leaf\": [1,2,3,4,5,6,7,8,9,10],\n",
    "             \"bootstrap\": [True, False]}\n",
    "\n",
    "model3 = RandomizedSearchCV(estimator = RF, param_distributions = random_grid, n_iter = 100, cv = 3,random_state=7, n_jobs = -1)\n",
    "\n",
    "cv_outer = KFold(n_splits=8, shuffle=True, random_state=7)\n",
    "\n",
    "RF_results = cross_val_score(model3, Shipping, TargetV.values.ravel(), scoring=\"neg_root_mean_squared_error\", cv=cv_outer)\n",
    "print(\"Mean root mean squared error is: \",-np.round(RF_results.mean(),2),\"Standard deviation is: \", np.round(RF_results.std(),2))"
   ]
  },
  {
   "cell_type": "code",
   "execution_count": 17,
   "metadata": {},
   "outputs": [
    {
     "name": "stdout",
     "output_type": "stream",
     "text": [
      "Mean root mean squared error is:  4563.67 Standard deviation is:  291.98\n"
     ]
    }
   ],
   "source": [
    "# Model 6 K-Nearest Neighbours\n",
    "cv_inner = KFold(n_splits=3, shuffle=True, random_state=7)\n",
    "\n",
    "KNN = KNeighborsRegressor()\n",
    "\n",
    "\n",
    "params={\"leaf_size\":[1,3],\n",
    "        \"n_neighbors\":[2,3,4,5],\n",
    "        \"p\":[1,2]}\n",
    "\n",
    "\n",
    "model4 = GridSearchCV(KNN, params, scoring=\"neg_root_mean_squared_error\", cv=cv_inner, refit=True)\n",
    "\n",
    "cv_outer = KFold(n_splits=8, shuffle=True, random_state=7)\n",
    "\n",
    "KNN_results = cross_val_score(model4, Shipping, TargetV, scoring=\"neg_root_mean_squared_error\", cv=cv_outer)\n",
    "print(\"Mean root mean squared error is: \",-np.round(KNN_results.mean(),2),\"Standard deviation is: \", np.round(KNN_results.std(),2))\n"
   ]
  },
  {
   "cell_type": "code",
   "execution_count": 20,
   "metadata": {},
   "outputs": [
    {
     "data": {
      "text/html": [
       "<div>\n",
       "<style scoped>\n",
       "    .dataframe tbody tr th:only-of-type {\n",
       "        vertical-align: middle;\n",
       "    }\n",
       "\n",
       "    .dataframe tbody tr th {\n",
       "        vertical-align: top;\n",
       "    }\n",
       "\n",
       "    .dataframe thead th {\n",
       "        text-align: right;\n",
       "    }\n",
       "</style>\n",
       "<table border=\"1\" class=\"dataframe\">\n",
       "  <thead>\n",
       "    <tr style=\"text-align: right;\">\n",
       "      <th></th>\n",
       "      <th>Method</th>\n",
       "      <th>RMSE</th>\n",
       "      <th>Standard deviation</th>\n",
       "    </tr>\n",
       "  </thead>\n",
       "  <tbody>\n",
       "    <tr>\n",
       "      <th>0</th>\n",
       "      <td>Linear Regression</td>\n",
       "      <td>6600.08</td>\n",
       "      <td>123.55</td>\n",
       "    </tr>\n",
       "    <tr>\n",
       "      <th>1</th>\n",
       "      <td>Ridge</td>\n",
       "      <td>6600.15</td>\n",
       "      <td>121.66</td>\n",
       "    </tr>\n",
       "    <tr>\n",
       "      <th>2</th>\n",
       "      <td>Lasso</td>\n",
       "      <td>6600.31</td>\n",
       "      <td>124.43</td>\n",
       "    </tr>\n",
       "    <tr>\n",
       "      <th>3</th>\n",
       "      <td>Decision Tree</td>\n",
       "      <td>5669.41</td>\n",
       "      <td>248.71</td>\n",
       "    </tr>\n",
       "    <tr>\n",
       "      <th>4</th>\n",
       "      <td>Random Forest</td>\n",
       "      <td>4469.59</td>\n",
       "      <td>318.33</td>\n",
       "    </tr>\n",
       "    <tr>\n",
       "      <th>5</th>\n",
       "      <td>K-Nearest Neighbour</td>\n",
       "      <td>4563.67</td>\n",
       "      <td>291.98</td>\n",
       "    </tr>\n",
       "  </tbody>\n",
       "</table>\n",
       "</div>"
      ],
      "text/plain": [
       "                Method     RMSE  Standard deviation\n",
       "0    Linear Regression  6600.08              123.55\n",
       "1                Ridge  6600.15              121.66\n",
       "2                Lasso  6600.31              124.43\n",
       "3        Decision Tree  5669.41              248.71\n",
       "4        Random Forest  4469.59              318.33\n",
       "5  K-Nearest Neighbour  4563.67              291.98"
      ]
     },
     "execution_count": 20,
     "metadata": {},
     "output_type": "execute_result"
    }
   ],
   "source": [
    "ModelResults= pd.DataFrame({'Method':[\"Linear Regression\",\"Ridge\",\"Lasso\",\"Decision Tree\",\"Random Forest\",\"K-Nearest Neighbour\"],\n",
    "                   'RMSE':[-np.round(lr_results.mean(),2), -np.round(ridge_results.mean(),2),-np.round(lasso_results.mean(),2), -np.round(DT_results.mean(),2), -np.round(RF_results.mean(),2), -np.round(KNN_results.mean(),2)],\n",
    "                   'Standard deviation':[np.round(lr_results.std(),2), np.round(ridge_results.std(),2),np.round(lasso_results.std(),2) , np.round(DT_results.std(),2), np.round(RF_results.std(),2), np.round(KNN_results.std(),2)]})\n",
    "ModelResults"
   ]
  },
  {
   "cell_type": "markdown",
   "metadata": {},
   "source": [
    "\n"
   ]
  }
 ],
 "metadata": {
  "kernelspec": {
   "display_name": "Python 3",
   "language": "python",
   "name": "python3"
  },
  "language_info": {
   "codemirror_mode": {
    "name": "ipython",
    "version": 3
   },
   "file_extension": ".py",
   "mimetype": "text/x-python",
   "name": "python",
   "nbconvert_exporter": "python",
   "pygments_lexer": "ipython3",
   "version": "3.8.5"
  }
 },
 "nbformat": 4,
 "nbformat_minor": 4
}
